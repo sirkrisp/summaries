{
 "metadata": {
  "language_info": {
   "codemirror_mode": {
    "name": "ipython",
    "version": 3
   },
   "file_extension": ".py",
   "mimetype": "text/x-python",
   "name": "python",
   "nbconvert_exporter": "python",
   "pygments_lexer": "ipython3",
   "version": "3.8.5-final"
  },
  "orig_nbformat": 2,
  "kernelspec": {
   "name": "python3",
   "display_name": "Python 3.8.5 64-bit ('mkdocs': conda)",
   "metadata": {
    "interpreter": {
     "hash": "0c01e64e3d24e8e86764503592357d297d0e0ead25bd9db89325aadffe80afef"
    }
   }
  }
 },
 "nbformat": 4,
 "nbformat_minor": 2,
 "cells": [
  {
   "cell_type": "code",
   "execution_count": 26,
   "metadata": {},
   "outputs": [],
   "source": [
    "import numpy as np\n",
    "import plotly.express as px\n",
    "import pandas as pd\n",
    "import plotly.graph_objects as go\n"
   ]
  },
  {
   "cell_type": "code",
   "execution_count": 1,
   "metadata": {},
   "outputs": [
    {
     "output_type": "display_data",
     "data": {
      "application/vnd.plotly.v1+json": {
       "config": {
        "plotlyServerURL": "https://plot.ly"
       },
       "data": [
        {
         "hovertemplate": "<b>%{hovertext}</b><br><br>gdpPercap=%{x}<br>lifeExp=%{y}<extra></extra>",
         "hovertext": [
          "Afghanistan",
          "Albania",
          "Algeria",
          "Angola",
          "Argentina",
          "Australia",
          "Austria",
          "Bahrain",
          "Bangladesh",
          "Belgium",
          "Benin",
          "Bolivia",
          "Bosnia and Herzegovina",
          "Botswana",
          "Brazil",
          "Bulgaria",
          "Burkina Faso",
          "Burundi",
          "Cambodia",
          "Cameroon",
          "Canada",
          "Central African Republic",
          "Chad",
          "Chile",
          "China",
          "Colombia",
          "Comoros",
          "Congo, Dem. Rep.",
          "Congo, Rep.",
          "Costa Rica",
          "Cote d'Ivoire",
          "Croatia",
          "Cuba",
          "Czech Republic",
          "Denmark",
          "Djibouti",
          "Dominican Republic",
          "Ecuador",
          "Egypt",
          "El Salvador",
          "Equatorial Guinea",
          "Eritrea",
          "Ethiopia",
          "Finland",
          "France",
          "Gabon",
          "Gambia",
          "Germany",
          "Ghana",
          "Greece",
          "Guatemala",
          "Guinea",
          "Guinea-Bissau",
          "Haiti",
          "Honduras",
          "Hong Kong, China",
          "Hungary",
          "Iceland",
          "India",
          "Indonesia",
          "Iran",
          "Iraq",
          "Ireland",
          "Israel",
          "Italy",
          "Jamaica",
          "Japan",
          "Jordan",
          "Kenya",
          "Korea, Dem. Rep.",
          "Korea, Rep.",
          "Kuwait",
          "Lebanon",
          "Lesotho",
          "Liberia",
          "Libya",
          "Madagascar",
          "Malawi",
          "Malaysia",
          "Mali",
          "Mauritania",
          "Mauritius",
          "Mexico",
          "Mongolia",
          "Montenegro",
          "Morocco",
          "Mozambique",
          "Myanmar",
          "Namibia",
          "Nepal",
          "Netherlands",
          "New Zealand",
          "Nicaragua",
          "Niger",
          "Nigeria",
          "Norway",
          "Oman",
          "Pakistan",
          "Panama",
          "Paraguay",
          "Peru",
          "Philippines",
          "Poland",
          "Portugal",
          "Puerto Rico",
          "Reunion",
          "Romania",
          "Rwanda",
          "Sao Tome and Principe",
          "Saudi Arabia",
          "Senegal",
          "Serbia",
          "Sierra Leone",
          "Singapore",
          "Slovak Republic",
          "Slovenia",
          "Somalia",
          "South Africa",
          "Spain",
          "Sri Lanka",
          "Sudan",
          "Swaziland",
          "Sweden",
          "Switzerland",
          "Syria",
          "Taiwan",
          "Tanzania",
          "Thailand",
          "Togo",
          "Trinidad and Tobago",
          "Tunisia",
          "Turkey",
          "Uganda",
          "United Kingdom",
          "United States",
          "Uruguay",
          "Venezuela",
          "Vietnam",
          "West Bank and Gaza",
          "Yemen, Rep.",
          "Zambia",
          "Zimbabwe"
         ],
         "legendgroup": "",
         "marker": {
          "color": "#636efa",
          "symbol": "circle"
         },
         "mode": "markers",
         "name": "",
         "orientation": "v",
         "showlegend": false,
         "type": "scatter",
         "x": [
          974.5803384,
          5937.029526,
          6223.367465,
          4797.231267,
          12779.37964,
          34435.36744,
          36126.4927,
          29796.04834,
          1391.253792,
          33692.60508,
          1441.284873,
          3822.137084,
          7446.298803,
          12569.85177,
          9065.800825,
          10680.79282,
          1217.032994,
          430.0706916,
          1713.778686,
          2042.09524,
          36319.23501,
          706.016537,
          1704.063724,
          13171.63885,
          4959.114854,
          7006.580419,
          986.1478792,
          277.5518587,
          3632.557798,
          9645.06142,
          1544.750112,
          14619.22272,
          8948.102923,
          22833.30851,
          35278.41874,
          2082.481567,
          6025.374752,
          6873.262326,
          5581.180998,
          5728.353514,
          12154.08975,
          641.3695236,
          690.8055759,
          33207.0844,
          30470.0167,
          13206.48452,
          752.7497265,
          32170.37442,
          1327.60891,
          27538.41188,
          5186.050003,
          942.6542111,
          579.231743,
          1201.637154,
          3548.330846,
          39724.97867,
          18008.94444,
          36180.78919,
          2452.210407,
          3540.651564,
          11605.71449,
          4471.061906,
          40675.99635,
          25523.2771,
          28569.7197,
          7320.880262,
          31656.06806,
          4519.461171,
          1463.249282,
          1593.06548,
          23348.13973,
          47306.98978,
          10461.05868,
          1569.331442,
          414.5073415,
          12057.49928,
          1044.770126,
          759.3499101,
          12451.6558,
          1042.581557,
          1803.151496,
          10956.99112,
          11977.57496,
          3095.772271,
          9253.896111,
          3820.17523,
          823.6856205,
          944,
          4811.060429,
          1091.359778,
          36797.93332,
          25185.00911,
          2749.320965,
          619.6768924,
          2013.977305,
          49357.19017,
          22316.19287,
          2605.94758,
          9809.185636,
          4172.838464,
          7408.905561,
          3190.481016,
          15389.92468,
          20509.64777,
          19328.70901,
          7670.122558,
          10808.47561,
          863.0884639,
          1598.435089,
          21654.83194,
          1712.472136,
          9786.534714,
          862.5407561,
          47143.17964,
          18678.31435,
          25768.25759,
          926.1410683,
          9269.657808,
          28821.0637,
          3970.095407,
          2602.394995,
          4513.480643,
          33859.74835,
          37506.41907,
          4184.548089,
          28718.27684,
          1107.482182,
          7458.396327,
          882.9699438,
          18008.50924,
          7092.923025,
          8458.276384,
          1056.380121,
          33203.26128,
          42951.65309,
          10611.46299,
          11415.80569,
          2441.576404,
          3025.349798,
          2280.769906,
          1271.211593,
          469.7092981
         ],
         "xaxis": "x",
         "y": [
          43.828,
          76.423,
          72.301,
          42.731,
          75.32,
          81.235,
          79.829,
          75.635,
          64.062,
          79.441,
          56.728,
          65.554,
          74.852,
          50.728,
          72.39,
          73.005,
          52.295,
          49.58,
          59.723,
          50.43,
          80.653,
          44.741,
          50.651,
          78.553,
          72.961,
          72.889,
          65.152,
          46.462,
          55.322,
          78.782,
          48.328,
          75.748,
          78.273,
          76.486,
          78.332,
          54.791,
          72.235,
          74.994,
          71.338,
          71.878,
          51.579,
          58.04,
          52.947,
          79.313,
          80.657,
          56.735,
          59.448,
          79.406,
          60.022,
          79.483,
          70.259,
          56.007,
          46.388,
          60.916,
          70.198,
          82.208,
          73.338,
          81.757,
          64.698,
          70.65,
          70.964,
          59.545,
          78.885,
          80.745,
          80.546,
          72.567,
          82.603,
          72.535,
          54.11,
          67.297,
          78.623,
          77.588,
          71.993,
          42.592,
          45.678,
          73.952,
          59.443,
          48.303,
          74.241,
          54.467,
          64.164,
          72.801,
          76.195,
          66.803,
          74.543,
          71.164,
          42.082,
          62.069,
          52.906,
          63.785,
          79.762,
          80.204,
          72.899,
          56.867,
          46.859,
          80.196,
          75.64,
          65.483,
          75.537,
          71.752,
          71.421,
          71.688,
          75.563,
          78.098,
          78.746,
          76.442,
          72.476,
          46.242,
          65.528,
          72.777,
          63.062,
          74.002,
          42.568,
          79.972,
          74.663,
          77.926,
          48.159,
          49.339,
          80.941,
          72.396,
          58.556,
          39.613,
          80.884,
          81.701,
          74.143,
          78.4,
          52.517,
          70.616,
          58.42,
          69.819,
          73.923,
          71.777,
          51.542,
          79.425,
          78.242,
          76.384,
          73.747,
          74.249,
          73.422,
          62.698,
          42.384,
          43.487
         ],
         "yaxis": "y"
        }
       ],
       "layout": {
        "legend": {
         "tracegroupgap": 0
        },
        "margin": {
         "t": 60
        },
        "template": {
         "data": {
          "bar": [
           {
            "error_x": {
             "color": "#2a3f5f"
            },
            "error_y": {
             "color": "#2a3f5f"
            },
            "marker": {
             "line": {
              "color": "#E5ECF6",
              "width": 0.5
             }
            },
            "type": "bar"
           }
          ],
          "barpolar": [
           {
            "marker": {
             "line": {
              "color": "#E5ECF6",
              "width": 0.5
             }
            },
            "type": "barpolar"
           }
          ],
          "carpet": [
           {
            "aaxis": {
             "endlinecolor": "#2a3f5f",
             "gridcolor": "white",
             "linecolor": "white",
             "minorgridcolor": "white",
             "startlinecolor": "#2a3f5f"
            },
            "baxis": {
             "endlinecolor": "#2a3f5f",
             "gridcolor": "white",
             "linecolor": "white",
             "minorgridcolor": "white",
             "startlinecolor": "#2a3f5f"
            },
            "type": "carpet"
           }
          ],
          "choropleth": [
           {
            "colorbar": {
             "outlinewidth": 0,
             "ticks": ""
            },
            "type": "choropleth"
           }
          ],
          "contour": [
           {
            "colorbar": {
             "outlinewidth": 0,
             "ticks": ""
            },
            "colorscale": [
             [
              0,
              "#0d0887"
             ],
             [
              0.1111111111111111,
              "#46039f"
             ],
             [
              0.2222222222222222,
              "#7201a8"
             ],
             [
              0.3333333333333333,
              "#9c179e"
             ],
             [
              0.4444444444444444,
              "#bd3786"
             ],
             [
              0.5555555555555556,
              "#d8576b"
             ],
             [
              0.6666666666666666,
              "#ed7953"
             ],
             [
              0.7777777777777778,
              "#fb9f3a"
             ],
             [
              0.8888888888888888,
              "#fdca26"
             ],
             [
              1,
              "#f0f921"
             ]
            ],
            "type": "contour"
           }
          ],
          "contourcarpet": [
           {
            "colorbar": {
             "outlinewidth": 0,
             "ticks": ""
            },
            "type": "contourcarpet"
           }
          ],
          "heatmap": [
           {
            "colorbar": {
             "outlinewidth": 0,
             "ticks": ""
            },
            "colorscale": [
             [
              0,
              "#0d0887"
             ],
             [
              0.1111111111111111,
              "#46039f"
             ],
             [
              0.2222222222222222,
              "#7201a8"
             ],
             [
              0.3333333333333333,
              "#9c179e"
             ],
             [
              0.4444444444444444,
              "#bd3786"
             ],
             [
              0.5555555555555556,
              "#d8576b"
             ],
             [
              0.6666666666666666,
              "#ed7953"
             ],
             [
              0.7777777777777778,
              "#fb9f3a"
             ],
             [
              0.8888888888888888,
              "#fdca26"
             ],
             [
              1,
              "#f0f921"
             ]
            ],
            "type": "heatmap"
           }
          ],
          "heatmapgl": [
           {
            "colorbar": {
             "outlinewidth": 0,
             "ticks": ""
            },
            "colorscale": [
             [
              0,
              "#0d0887"
             ],
             [
              0.1111111111111111,
              "#46039f"
             ],
             [
              0.2222222222222222,
              "#7201a8"
             ],
             [
              0.3333333333333333,
              "#9c179e"
             ],
             [
              0.4444444444444444,
              "#bd3786"
             ],
             [
              0.5555555555555556,
              "#d8576b"
             ],
             [
              0.6666666666666666,
              "#ed7953"
             ],
             [
              0.7777777777777778,
              "#fb9f3a"
             ],
             [
              0.8888888888888888,
              "#fdca26"
             ],
             [
              1,
              "#f0f921"
             ]
            ],
            "type": "heatmapgl"
           }
          ],
          "histogram": [
           {
            "marker": {
             "colorbar": {
              "outlinewidth": 0,
              "ticks": ""
             }
            },
            "type": "histogram"
           }
          ],
          "histogram2d": [
           {
            "colorbar": {
             "outlinewidth": 0,
             "ticks": ""
            },
            "colorscale": [
             [
              0,
              "#0d0887"
             ],
             [
              0.1111111111111111,
              "#46039f"
             ],
             [
              0.2222222222222222,
              "#7201a8"
             ],
             [
              0.3333333333333333,
              "#9c179e"
             ],
             [
              0.4444444444444444,
              "#bd3786"
             ],
             [
              0.5555555555555556,
              "#d8576b"
             ],
             [
              0.6666666666666666,
              "#ed7953"
             ],
             [
              0.7777777777777778,
              "#fb9f3a"
             ],
             [
              0.8888888888888888,
              "#fdca26"
             ],
             [
              1,
              "#f0f921"
             ]
            ],
            "type": "histogram2d"
           }
          ],
          "histogram2dcontour": [
           {
            "colorbar": {
             "outlinewidth": 0,
             "ticks": ""
            },
            "colorscale": [
             [
              0,
              "#0d0887"
             ],
             [
              0.1111111111111111,
              "#46039f"
             ],
             [
              0.2222222222222222,
              "#7201a8"
             ],
             [
              0.3333333333333333,
              "#9c179e"
             ],
             [
              0.4444444444444444,
              "#bd3786"
             ],
             [
              0.5555555555555556,
              "#d8576b"
             ],
             [
              0.6666666666666666,
              "#ed7953"
             ],
             [
              0.7777777777777778,
              "#fb9f3a"
             ],
             [
              0.8888888888888888,
              "#fdca26"
             ],
             [
              1,
              "#f0f921"
             ]
            ],
            "type": "histogram2dcontour"
           }
          ],
          "mesh3d": [
           {
            "colorbar": {
             "outlinewidth": 0,
             "ticks": ""
            },
            "type": "mesh3d"
           }
          ],
          "parcoords": [
           {
            "line": {
             "colorbar": {
              "outlinewidth": 0,
              "ticks": ""
             }
            },
            "type": "parcoords"
           }
          ],
          "pie": [
           {
            "automargin": true,
            "type": "pie"
           }
          ],
          "scatter": [
           {
            "marker": {
             "colorbar": {
              "outlinewidth": 0,
              "ticks": ""
             }
            },
            "type": "scatter"
           }
          ],
          "scatter3d": [
           {
            "line": {
             "colorbar": {
              "outlinewidth": 0,
              "ticks": ""
             }
            },
            "marker": {
             "colorbar": {
              "outlinewidth": 0,
              "ticks": ""
             }
            },
            "type": "scatter3d"
           }
          ],
          "scattercarpet": [
           {
            "marker": {
             "colorbar": {
              "outlinewidth": 0,
              "ticks": ""
             }
            },
            "type": "scattercarpet"
           }
          ],
          "scattergeo": [
           {
            "marker": {
             "colorbar": {
              "outlinewidth": 0,
              "ticks": ""
             }
            },
            "type": "scattergeo"
           }
          ],
          "scattergl": [
           {
            "marker": {
             "colorbar": {
              "outlinewidth": 0,
              "ticks": ""
             }
            },
            "type": "scattergl"
           }
          ],
          "scattermapbox": [
           {
            "marker": {
             "colorbar": {
              "outlinewidth": 0,
              "ticks": ""
             }
            },
            "type": "scattermapbox"
           }
          ],
          "scatterpolar": [
           {
            "marker": {
             "colorbar": {
              "outlinewidth": 0,
              "ticks": ""
             }
            },
            "type": "scatterpolar"
           }
          ],
          "scatterpolargl": [
           {
            "marker": {
             "colorbar": {
              "outlinewidth": 0,
              "ticks": ""
             }
            },
            "type": "scatterpolargl"
           }
          ],
          "scatterternary": [
           {
            "marker": {
             "colorbar": {
              "outlinewidth": 0,
              "ticks": ""
             }
            },
            "type": "scatterternary"
           }
          ],
          "surface": [
           {
            "colorbar": {
             "outlinewidth": 0,
             "ticks": ""
            },
            "colorscale": [
             [
              0,
              "#0d0887"
             ],
             [
              0.1111111111111111,
              "#46039f"
             ],
             [
              0.2222222222222222,
              "#7201a8"
             ],
             [
              0.3333333333333333,
              "#9c179e"
             ],
             [
              0.4444444444444444,
              "#bd3786"
             ],
             [
              0.5555555555555556,
              "#d8576b"
             ],
             [
              0.6666666666666666,
              "#ed7953"
             ],
             [
              0.7777777777777778,
              "#fb9f3a"
             ],
             [
              0.8888888888888888,
              "#fdca26"
             ],
             [
              1,
              "#f0f921"
             ]
            ],
            "type": "surface"
           }
          ],
          "table": [
           {
            "cells": {
             "fill": {
              "color": "#EBF0F8"
             },
             "line": {
              "color": "white"
             }
            },
            "header": {
             "fill": {
              "color": "#C8D4E3"
             },
             "line": {
              "color": "white"
             }
            },
            "type": "table"
           }
          ]
         },
         "layout": {
          "annotationdefaults": {
           "arrowcolor": "#2a3f5f",
           "arrowhead": 0,
           "arrowwidth": 1
          },
          "autotypenumbers": "strict",
          "coloraxis": {
           "colorbar": {
            "outlinewidth": 0,
            "ticks": ""
           }
          },
          "colorscale": {
           "diverging": [
            [
             0,
             "#8e0152"
            ],
            [
             0.1,
             "#c51b7d"
            ],
            [
             0.2,
             "#de77ae"
            ],
            [
             0.3,
             "#f1b6da"
            ],
            [
             0.4,
             "#fde0ef"
            ],
            [
             0.5,
             "#f7f7f7"
            ],
            [
             0.6,
             "#e6f5d0"
            ],
            [
             0.7,
             "#b8e186"
            ],
            [
             0.8,
             "#7fbc41"
            ],
            [
             0.9,
             "#4d9221"
            ],
            [
             1,
             "#276419"
            ]
           ],
           "sequential": [
            [
             0,
             "#0d0887"
            ],
            [
             0.1111111111111111,
             "#46039f"
            ],
            [
             0.2222222222222222,
             "#7201a8"
            ],
            [
             0.3333333333333333,
             "#9c179e"
            ],
            [
             0.4444444444444444,
             "#bd3786"
            ],
            [
             0.5555555555555556,
             "#d8576b"
            ],
            [
             0.6666666666666666,
             "#ed7953"
            ],
            [
             0.7777777777777778,
             "#fb9f3a"
            ],
            [
             0.8888888888888888,
             "#fdca26"
            ],
            [
             1,
             "#f0f921"
            ]
           ],
           "sequentialminus": [
            [
             0,
             "#0d0887"
            ],
            [
             0.1111111111111111,
             "#46039f"
            ],
            [
             0.2222222222222222,
             "#7201a8"
            ],
            [
             0.3333333333333333,
             "#9c179e"
            ],
            [
             0.4444444444444444,
             "#bd3786"
            ],
            [
             0.5555555555555556,
             "#d8576b"
            ],
            [
             0.6666666666666666,
             "#ed7953"
            ],
            [
             0.7777777777777778,
             "#fb9f3a"
            ],
            [
             0.8888888888888888,
             "#fdca26"
            ],
            [
             1,
             "#f0f921"
            ]
           ]
          },
          "colorway": [
           "#636efa",
           "#EF553B",
           "#00cc96",
           "#ab63fa",
           "#FFA15A",
           "#19d3f3",
           "#FF6692",
           "#B6E880",
           "#FF97FF",
           "#FECB52"
          ],
          "font": {
           "color": "#2a3f5f"
          },
          "geo": {
           "bgcolor": "white",
           "lakecolor": "white",
           "landcolor": "#E5ECF6",
           "showlakes": true,
           "showland": true,
           "subunitcolor": "white"
          },
          "hoverlabel": {
           "align": "left"
          },
          "hovermode": "closest",
          "mapbox": {
           "style": "light"
          },
          "paper_bgcolor": "white",
          "plot_bgcolor": "#E5ECF6",
          "polar": {
           "angularaxis": {
            "gridcolor": "white",
            "linecolor": "white",
            "ticks": ""
           },
           "bgcolor": "#E5ECF6",
           "radialaxis": {
            "gridcolor": "white",
            "linecolor": "white",
            "ticks": ""
           }
          },
          "scene": {
           "xaxis": {
            "backgroundcolor": "#E5ECF6",
            "gridcolor": "white",
            "gridwidth": 2,
            "linecolor": "white",
            "showbackground": true,
            "ticks": "",
            "zerolinecolor": "white"
           },
           "yaxis": {
            "backgroundcolor": "#E5ECF6",
            "gridcolor": "white",
            "gridwidth": 2,
            "linecolor": "white",
            "showbackground": true,
            "ticks": "",
            "zerolinecolor": "white"
           },
           "zaxis": {
            "backgroundcolor": "#E5ECF6",
            "gridcolor": "white",
            "gridwidth": 2,
            "linecolor": "white",
            "showbackground": true,
            "ticks": "",
            "zerolinecolor": "white"
           }
          },
          "shapedefaults": {
           "line": {
            "color": "#2a3f5f"
           }
          },
          "ternary": {
           "aaxis": {
            "gridcolor": "white",
            "linecolor": "white",
            "ticks": ""
           },
           "baxis": {
            "gridcolor": "white",
            "linecolor": "white",
            "ticks": ""
           },
           "bgcolor": "#E5ECF6",
           "caxis": {
            "gridcolor": "white",
            "linecolor": "white",
            "ticks": ""
           }
          },
          "title": {
           "x": 0.05
          },
          "xaxis": {
           "automargin": true,
           "gridcolor": "white",
           "linecolor": "white",
           "ticks": "",
           "title": {
            "standoff": 15
           },
           "zerolinecolor": "white",
           "zerolinewidth": 2
          },
          "yaxis": {
           "automargin": true,
           "gridcolor": "white",
           "linecolor": "white",
           "ticks": "",
           "title": {
            "standoff": 15
           },
           "zerolinecolor": "white",
           "zerolinewidth": 2
          }
         }
        },
        "xaxis": {
         "anchor": "y",
         "domain": [
          0,
          1
         ],
         "range": [
          0,
          5
         ],
         "title": {
          "text": "gdpPercap"
         },
         "type": "log"
        },
        "yaxis": {
         "anchor": "x",
         "domain": [
          0,
          1
         ],
         "range": [
          0,
          100
         ],
         "title": {
          "text": "lifeExp"
         }
        }
       }
      }
     },
     "metadata": {}
    }
   ],
   "source": [
    "\n",
    "df = px.data.gapminder().query(\"year == 2007\")\n",
    "\n",
    "fig = px.scatter(df, x=\"gdpPercap\", y=\"lifeExp\", hover_name=\"country\", \n",
    "                 log_x=True, range_x=[1,100000], range_y=[0,100])\n",
    "fig.show()"
   ]
  },
  {
   "cell_type": "code",
   "execution_count": 25,
   "metadata": {},
   "outputs": [
    {
     "output_type": "error",
     "ename": "ValueError",
     "evalue": "Cannot accept list of column references or list of columns for both `x` and `y`.",
     "traceback": [
      "\u001b[0;31m---------------------------------------------------------------------------\u001b[0m",
      "\u001b[0;31mValueError\u001b[0m                                Traceback (most recent call last)",
      "\u001b[0;32m<ipython-input-25-170b60e563f6>\u001b[0m in \u001b[0;36m<module>\u001b[0;34m\u001b[0m\n\u001b[1;32m      3\u001b[0m \u001b[0my2\u001b[0m \u001b[0;34m=\u001b[0m \u001b[0mx\u001b[0m\u001b[0;34m**\u001b[0m\u001b[0;36m2\u001b[0m\u001b[0;34m\u001b[0m\u001b[0;34m\u001b[0m\u001b[0m\n\u001b[1;32m      4\u001b[0m \u001b[0;34m\u001b[0m\u001b[0m\n\u001b[0;32m----> 5\u001b[0;31m \u001b[0mfig\u001b[0m \u001b[0;34m=\u001b[0m \u001b[0mpx\u001b[0m\u001b[0;34m.\u001b[0m\u001b[0mline\u001b[0m\u001b[0;34m(\u001b[0m\u001b[0mdf\u001b[0m\u001b[0;34m,\u001b[0m \u001b[0mx\u001b[0m\u001b[0;34m=\u001b[0m\u001b[0mnp\u001b[0m\u001b[0;34m.\u001b[0m\u001b[0mstack\u001b[0m\u001b[0;34m(\u001b[0m\u001b[0;34m[\u001b[0m\u001b[0mx\u001b[0m\u001b[0;34m,\u001b[0m \u001b[0mx\u001b[0m\u001b[0;34m]\u001b[0m\u001b[0;34m)\u001b[0m\u001b[0;34m,\u001b[0m \u001b[0my\u001b[0m\u001b[0;34m=\u001b[0m\u001b[0mnp\u001b[0m\u001b[0;34m.\u001b[0m\u001b[0mstack\u001b[0m\u001b[0;34m(\u001b[0m\u001b[0;34m[\u001b[0m\u001b[0my\u001b[0m\u001b[0;34m,\u001b[0m \u001b[0my2\u001b[0m\u001b[0;34m]\u001b[0m\u001b[0;34m)\u001b[0m\u001b[0;34m,\u001b[0m \u001b[0mtitle\u001b[0m\u001b[0;34m=\u001b[0m\u001b[0;34m'Performance Comparison'\u001b[0m\u001b[0;34m,\u001b[0m \u001b[0mlog_y\u001b[0m\u001b[0;34m=\u001b[0m\u001b[0;32mTrue\u001b[0m\u001b[0;34m)\u001b[0m\u001b[0;34m\u001b[0m\u001b[0;34m\u001b[0m\u001b[0m\n\u001b[0m\u001b[1;32m      6\u001b[0m \u001b[0mfig\u001b[0m\u001b[0;34m.\u001b[0m\u001b[0madd_line\u001b[0m\u001b[0;34m(\u001b[0m\u001b[0;34m)\u001b[0m\u001b[0;34m\u001b[0m\u001b[0;34m\u001b[0m\u001b[0m\n\u001b[1;32m      7\u001b[0m \u001b[0mfig\u001b[0m\u001b[0;34m.\u001b[0m\u001b[0mupdate_xaxes\u001b[0m\u001b[0;34m(\u001b[0m\u001b[0mtitle_text\u001b[0m\u001b[0;34m=\u001b[0m\u001b[0;34m\"n\"\u001b[0m\u001b[0;34m)\u001b[0m\u001b[0;34m\u001b[0m\u001b[0;34m\u001b[0m\u001b[0m\n",
      "\u001b[0;32m~/opt/anaconda3/envs/mkdocs/lib/python3.8/site-packages/plotly/express/_chart_types.py\u001b[0m in \u001b[0;36mline\u001b[0;34m(data_frame, x, y, line_group, color, line_dash, hover_name, hover_data, custom_data, text, facet_row, facet_col, facet_col_wrap, facet_row_spacing, facet_col_spacing, error_x, error_x_minus, error_y, error_y_minus, animation_frame, animation_group, category_orders, labels, orientation, color_discrete_sequence, color_discrete_map, line_dash_sequence, line_dash_map, log_x, log_y, range_x, range_y, line_shape, render_mode, title, template, width, height)\u001b[0m\n\u001b[1;32m    250\u001b[0m     \u001b[0ma\u001b[0m \u001b[0mpolyline\u001b[0m \u001b[0mmark\u001b[0m \u001b[0;32min\u001b[0m \u001b[0;36m2\u001b[0m\u001b[0mD\u001b[0m \u001b[0mspace\u001b[0m\u001b[0;34m.\u001b[0m\u001b[0;34m\u001b[0m\u001b[0;34m\u001b[0m\u001b[0m\n\u001b[1;32m    251\u001b[0m     \"\"\"\n\u001b[0;32m--> 252\u001b[0;31m     \u001b[0;32mreturn\u001b[0m \u001b[0mmake_figure\u001b[0m\u001b[0;34m(\u001b[0m\u001b[0margs\u001b[0m\u001b[0;34m=\u001b[0m\u001b[0mlocals\u001b[0m\u001b[0;34m(\u001b[0m\u001b[0;34m)\u001b[0m\u001b[0;34m,\u001b[0m \u001b[0mconstructor\u001b[0m\u001b[0;34m=\u001b[0m\u001b[0mgo\u001b[0m\u001b[0;34m.\u001b[0m\u001b[0mScatter\u001b[0m\u001b[0;34m)\u001b[0m\u001b[0;34m\u001b[0m\u001b[0;34m\u001b[0m\u001b[0m\n\u001b[0m\u001b[1;32m    253\u001b[0m \u001b[0;34m\u001b[0m\u001b[0m\n\u001b[1;32m    254\u001b[0m \u001b[0;34m\u001b[0m\u001b[0m\n",
      "\u001b[0;32m~/opt/anaconda3/envs/mkdocs/lib/python3.8/site-packages/plotly/express/_core.py\u001b[0m in \u001b[0;36mmake_figure\u001b[0;34m(args, constructor, trace_patch, layout_patch)\u001b[0m\n\u001b[1;32m   1859\u001b[0m     \u001b[0mapply_default_cascade\u001b[0m\u001b[0;34m(\u001b[0m\u001b[0margs\u001b[0m\u001b[0;34m)\u001b[0m\u001b[0;34m\u001b[0m\u001b[0;34m\u001b[0m\u001b[0m\n\u001b[1;32m   1860\u001b[0m \u001b[0;34m\u001b[0m\u001b[0m\n\u001b[0;32m-> 1861\u001b[0;31m     \u001b[0margs\u001b[0m \u001b[0;34m=\u001b[0m \u001b[0mbuild_dataframe\u001b[0m\u001b[0;34m(\u001b[0m\u001b[0margs\u001b[0m\u001b[0;34m,\u001b[0m \u001b[0mconstructor\u001b[0m\u001b[0;34m)\u001b[0m\u001b[0;34m\u001b[0m\u001b[0;34m\u001b[0m\u001b[0m\n\u001b[0m\u001b[1;32m   1862\u001b[0m     \u001b[0;32mif\u001b[0m \u001b[0mconstructor\u001b[0m \u001b[0;32min\u001b[0m \u001b[0;34m[\u001b[0m\u001b[0mgo\u001b[0m\u001b[0;34m.\u001b[0m\u001b[0mTreemap\u001b[0m\u001b[0;34m,\u001b[0m \u001b[0mgo\u001b[0m\u001b[0;34m.\u001b[0m\u001b[0mSunburst\u001b[0m\u001b[0;34m]\u001b[0m \u001b[0;32mand\u001b[0m \u001b[0margs\u001b[0m\u001b[0;34m[\u001b[0m\u001b[0;34m\"path\"\u001b[0m\u001b[0;34m]\u001b[0m \u001b[0;32mis\u001b[0m \u001b[0;32mnot\u001b[0m \u001b[0;32mNone\u001b[0m\u001b[0;34m:\u001b[0m\u001b[0;34m\u001b[0m\u001b[0;34m\u001b[0m\u001b[0m\n\u001b[1;32m   1863\u001b[0m         \u001b[0margs\u001b[0m \u001b[0;34m=\u001b[0m \u001b[0mprocess_dataframe_hierarchy\u001b[0m\u001b[0;34m(\u001b[0m\u001b[0margs\u001b[0m\u001b[0;34m)\u001b[0m\u001b[0;34m\u001b[0m\u001b[0;34m\u001b[0m\u001b[0m\n",
      "\u001b[0;32m~/opt/anaconda3/envs/mkdocs/lib/python3.8/site-packages/plotly/express/_core.py\u001b[0m in \u001b[0;36mbuild_dataframe\u001b[0;34m(args, constructor)\u001b[0m\n\u001b[1;32m   1297\u001b[0m     \u001b[0;32mif\u001b[0m \u001b[0mconstructor\u001b[0m \u001b[0;32min\u001b[0m \u001b[0mcartesians\u001b[0m\u001b[0;34m:\u001b[0m\u001b[0;34m\u001b[0m\u001b[0;34m\u001b[0m\u001b[0m\n\u001b[1;32m   1298\u001b[0m         \u001b[0;32mif\u001b[0m \u001b[0mwide_x\u001b[0m \u001b[0;32mand\u001b[0m \u001b[0mwide_y\u001b[0m\u001b[0;34m:\u001b[0m\u001b[0;34m\u001b[0m\u001b[0;34m\u001b[0m\u001b[0m\n\u001b[0;32m-> 1299\u001b[0;31m             raise ValueError(\n\u001b[0m\u001b[1;32m   1300\u001b[0m                 \u001b[0;34m\"Cannot accept list of column references or list of columns for both `x` and `y`.\"\u001b[0m\u001b[0;34m\u001b[0m\u001b[0;34m\u001b[0m\u001b[0m\n\u001b[1;32m   1301\u001b[0m             )\n",
      "\u001b[0;31mValueError\u001b[0m: Cannot accept list of column references or list of columns for both `x` and `y`."
     ]
    }
   ],
   "source": [
    "x = np.linspace(1, 100, 100)\n",
    "y = 2**x\n",
    "y2 = x**2\n",
    "\n",
    "fig = px.line(df, x=np.stack([x, x]), y=np.stack([y, y2]), title='Performance Comparison', log_y=True)\n",
    "fig.add_line()\n",
    "fig.update_xaxes(title_text=\"n\")\n",
    "fig.update_yaxes(title_text=\"performance [flops/cycle]\")\n",
    "fig.show()"
   ]
  },
  {
   "cell_type": "code",
   "execution_count": 22,
   "metadata": {},
   "outputs": [
    {
     "output_type": "execute_result",
     "data": {
      "text/plain": [
       "(2, 100)"
      ]
     },
     "metadata": {},
     "execution_count": 22
    }
   ],
   "source": [
    "np.stack([y, y2]).shape"
   ]
  },
  {
   "cell_type": "code",
   "execution_count": 20,
   "metadata": {},
   "outputs": [
    {
     "output_type": "execute_result",
     "data": {
      "text/plain": [
       "array([1.000e+00, 4.000e+00, 9.000e+00, 1.600e+01, 2.500e+01, 3.600e+01,\n",
       "       4.900e+01, 6.400e+01, 8.100e+01, 1.000e+02, 1.210e+02, 1.440e+02,\n",
       "       1.690e+02, 1.960e+02, 2.250e+02, 2.560e+02, 2.890e+02, 3.240e+02,\n",
       "       3.610e+02, 4.000e+02, 4.410e+02, 4.840e+02, 5.290e+02, 5.760e+02,\n",
       "       6.250e+02, 6.760e+02, 7.290e+02, 7.840e+02, 8.410e+02, 9.000e+02,\n",
       "       9.610e+02, 1.024e+03, 1.089e+03, 1.156e+03, 1.225e+03, 1.296e+03,\n",
       "       1.369e+03, 1.444e+03, 1.521e+03, 1.600e+03, 1.681e+03, 1.764e+03,\n",
       "       1.849e+03, 1.936e+03, 2.025e+03, 2.116e+03, 2.209e+03, 2.304e+03,\n",
       "       2.401e+03, 2.500e+03, 2.601e+03, 2.704e+03, 2.809e+03, 2.916e+03,\n",
       "       3.025e+03, 3.136e+03, 3.249e+03, 3.364e+03, 3.481e+03, 3.600e+03,\n",
       "       3.721e+03, 3.844e+03, 3.969e+03, 4.096e+03, 4.225e+03, 4.356e+03,\n",
       "       4.489e+03, 4.624e+03, 4.761e+03, 4.900e+03, 5.041e+03, 5.184e+03,\n",
       "       5.329e+03, 5.476e+03, 5.625e+03, 5.776e+03, 5.929e+03, 6.084e+03,\n",
       "       6.241e+03, 6.400e+03, 6.561e+03, 6.724e+03, 6.889e+03, 7.056e+03,\n",
       "       7.225e+03, 7.396e+03, 7.569e+03, 7.744e+03, 7.921e+03, 8.100e+03,\n",
       "       8.281e+03, 8.464e+03, 8.649e+03, 8.836e+03, 9.025e+03, 9.216e+03,\n",
       "       9.409e+03, 9.604e+03, 9.801e+03, 1.000e+04])"
      ]
     },
     "metadata": {},
     "execution_count": 20
    }
   ],
   "source": [
    "y2"
   ]
  },
  {
   "cell_type": "code",
   "execution_count": 36,
   "metadata": {},
   "outputs": [
    {
     "output_type": "display_data",
     "data": {
      "application/vnd.plotly.v1+json": {
       "config": {
        "plotlyServerURL": "https://plot.ly"
       },
       "data": [
        {
         "line": {
          "color": "royalblue",
          "dash": "dot",
          "width": 1
         },
         "mode": "lines",
         "name": "lines",
         "type": "scatter",
         "x": [
          0,
          0.010101010101010102,
          0.020202020202020204,
          0.030303030303030304,
          0.04040404040404041,
          0.05050505050505051,
          0.06060606060606061,
          0.07070707070707072,
          0.08080808080808081,
          0.09090909090909091,
          0.10101010101010102,
          0.11111111111111112,
          0.12121212121212122,
          0.13131313131313133,
          0.14141414141414144,
          0.15151515151515152,
          0.16161616161616163,
          0.17171717171717174,
          0.18181818181818182,
          0.19191919191919193,
          0.20202020202020204,
          0.21212121212121213,
          0.22222222222222224,
          0.23232323232323235,
          0.24242424242424243,
          0.25252525252525254,
          0.26262626262626265,
          0.27272727272727276,
          0.2828282828282829,
          0.29292929292929293,
          0.30303030303030304,
          0.31313131313131315,
          0.32323232323232326,
          0.33333333333333337,
          0.3434343434343435,
          0.3535353535353536,
          0.36363636363636365,
          0.37373737373737376,
          0.38383838383838387,
          0.393939393939394,
          0.4040404040404041,
          0.4141414141414142,
          0.42424242424242425,
          0.43434343434343436,
          0.4444444444444445,
          0.4545454545454546,
          0.4646464646464647,
          0.4747474747474748,
          0.48484848484848486,
          0.494949494949495,
          0.5050505050505051,
          0.5151515151515152,
          0.5252525252525253,
          0.5353535353535354,
          0.5454545454545455,
          0.5555555555555556,
          0.5656565656565657,
          0.5757575757575758,
          0.5858585858585859,
          0.595959595959596,
          0.6060606060606061,
          0.6161616161616162,
          0.6262626262626263,
          0.6363636363636365,
          0.6464646464646465,
          0.6565656565656566,
          0.6666666666666667,
          0.6767676767676768,
          0.686868686868687,
          0.696969696969697,
          0.7070707070707072,
          0.7171717171717172,
          0.7272727272727273,
          0.7373737373737375,
          0.7474747474747475,
          0.7575757575757577,
          0.7676767676767677,
          0.7777777777777778,
          0.787878787878788,
          0.797979797979798,
          0.8080808080808082,
          0.8181818181818182,
          0.8282828282828284,
          0.8383838383838385,
          0.8484848484848485,
          0.8585858585858587,
          0.8686868686868687,
          0.8787878787878789,
          0.888888888888889,
          0.8989898989898991,
          0.9090909090909092,
          0.9191919191919192,
          0.9292929292929294,
          0.9393939393939394,
          0.9494949494949496,
          0.9595959595959597,
          0.9696969696969697,
          0.9797979797979799,
          0.98989898989899,
          1
         ],
         "y": [
          6.624345363663242,
          4.388243586349924,
          4.4718282477365445,
          3.9270313778438295,
          5.865407629324679,
          2.6984613031197173,
          6.74481176421648,
          4.238793099104897,
          5.319039096057098,
          4.75062962452259,
          6.4621079370449745,
          2.939859290502346,
          4.677582795986493,
          4.615945645331585,
          6.133769442335438,
          3.900108732685969,
          4.8275717924495645,
          4.122141582078628,
          5.042213746715593,
          5.582815213715822,
          3.8993808227870788,
          6.144723709839614,
          5.901590720592796,
          5.502494338901868,
          5.900855949264412,
          4.316272140825667,
          4.877109774481352,
          4.064230565740932,
          4.732111920373984,
          5.530355466738186,
          4.308339248274691,
          4.603246473144023,
          4.312827299880401,
          4.15479435850128,
          4.328753869163181,
          4.987335401081099,
          3.882689651364722,
          5.234415697817092,
          6.659802177109871,
          5.742044160577335,
          4.808164447638385,
          4.112371035915164,
          4.252841706249162,
          6.692454601027746,
          5.050807754776029,
          4.363004353430647,
          5.190915484667466,
          7.100255136478842,
          5.1201589524816296,
          5.617203109707419,
          5.300170319955828,
          4.647750153506482,
          3.85748180197786,
          4.650657277587123,
          4.791105766625222,
          5.5866231911821975,
          5.838983413874505,
          5.931102081303557,
          5.285587325254259,
          5.885141164270728,
          4.245602059003347,
          6.252868155233288,
          5.512929820418009,
          4.7019071648972846,
          5.488518146537497,
          4.924428286978944,
          6.131629387451427,
          6.519816816422199,
          7.185575406533161,
          3.6035036645118623,
          3.5558861945704106,
          4.495534137053549,
          5.160037069447831,
          5.876168921116225,
          5.315634947241605,
          2.977798784175997,
          4.693795987371628,
          5.827974642607246,
          5.230094735364384,
          5.762011180312025,
          4.777671857389641,
          4.799241931070003,
          5.186561390988285,
          5.410051647208256,
          5.198299720126769,
          5.119008645807459,
          4.329337713710969,
          5.37756378632092,
          5.121821270991437,
          6.129483907911919,
          6.198917879901507,
          5.1851564174839435,
          4.624715049909886,
          4.361269592545778,
          5.423494354064113,
          5.077340068348559,
          4.656146324428924,
          5.043596856834247,
          4.379999156051871,
          5.698032034072219
         ]
        },
        {
         "mode": "lines+markers",
         "name": "lines+markers",
         "type": "scatter",
         "x": [
          0,
          0.010101010101010102,
          0.020202020202020204,
          0.030303030303030304,
          0.04040404040404041,
          0.05050505050505051,
          0.06060606060606061,
          0.07070707070707072,
          0.08080808080808081,
          0.09090909090909091,
          0.10101010101010102,
          0.11111111111111112,
          0.12121212121212122,
          0.13131313131313133,
          0.14141414141414144,
          0.15151515151515152,
          0.16161616161616163,
          0.17171717171717174,
          0.18181818181818182,
          0.19191919191919193,
          0.20202020202020204,
          0.21212121212121213,
          0.22222222222222224,
          0.23232323232323235,
          0.24242424242424243,
          0.25252525252525254,
          0.26262626262626265,
          0.27272727272727276,
          0.2828282828282829,
          0.29292929292929293,
          0.30303030303030304,
          0.31313131313131315,
          0.32323232323232326,
          0.33333333333333337,
          0.3434343434343435,
          0.3535353535353536,
          0.36363636363636365,
          0.37373737373737376,
          0.38383838383838387,
          0.393939393939394,
          0.4040404040404041,
          0.4141414141414142,
          0.42424242424242425,
          0.43434343434343436,
          0.4444444444444445,
          0.4545454545454546,
          0.4646464646464647,
          0.4747474747474748,
          0.48484848484848486,
          0.494949494949495,
          0.5050505050505051,
          0.5151515151515152,
          0.5252525252525253,
          0.5353535353535354,
          0.5454545454545455,
          0.5555555555555556,
          0.5656565656565657,
          0.5757575757575758,
          0.5858585858585859,
          0.595959595959596,
          0.6060606060606061,
          0.6161616161616162,
          0.6262626262626263,
          0.6363636363636365,
          0.6464646464646465,
          0.6565656565656566,
          0.6666666666666667,
          0.6767676767676768,
          0.686868686868687,
          0.696969696969697,
          0.7070707070707072,
          0.7171717171717172,
          0.7272727272727273,
          0.7373737373737375,
          0.7474747474747475,
          0.7575757575757577,
          0.7676767676767677,
          0.7777777777777778,
          0.787878787878788,
          0.797979797979798,
          0.8080808080808082,
          0.8181818181818182,
          0.8282828282828284,
          0.8383838383838385,
          0.8484848484848485,
          0.8585858585858587,
          0.8686868686868687,
          0.8787878787878789,
          0.888888888888889,
          0.8989898989898991,
          0.9090909090909092,
          0.9191919191919192,
          0.9292929292929294,
          0.9393939393939394,
          0.9494949494949496,
          0.9595959595959597,
          0.9696969696969697,
          0.9797979797979799,
          0.98989898989899,
          1
         ],
         "y": [
          -0.4471285647859982,
          1.2245077048054989,
          0.4034916417908,
          0.593578523237067,
          -1.0949118457410418,
          0.1693824330586681,
          0.7405564510962748,
          -0.9537006018079346,
          -0.26621850600362207,
          0.03261454669335856,
          -1.3731173202467557,
          0.31515939204229176,
          0.8461606475850334,
          -0.8595159408319863,
          0.35054597866410736,
          -1.3122834112374318,
          -0.038695509266051115,
          -1.6157723547032947,
          1.121417708235664,
          0.4089005379368278,
          -0.024616955875778355,
          -0.7751616191691596,
          1.2737559301587766,
          1.9671017492547347,
          -1.857981864446752,
          1.2361640304528203,
          1.6276507531489064,
          0.3380116965744758,
          -1.199268032335186,
          0.8633453175440216,
          -0.18092030207815046,
          -0.6039206277932573,
          -1.2300581356669618,
          0.5505374959762154,
          0.7928068659193477,
          -0.6235307296797916,
          0.5205763370733708,
          -1.1443413896231427,
          0.8018610318713447,
          0.04656729842414554,
          -0.18656977190734877,
          -0.10174587252914521,
          0.8688861570058679,
          0.7504116398650081,
          0.5294653243527092,
          0.13770120999738608,
          0.07782112791270591,
          0.6183802619985245,
          0.23249455917873788,
          0.6825514068644851,
          -0.31011677351806,
          -2.434837764107139,
          1.038824601859414,
          2.1869796469742577,
          0.44136444356858207,
          -0.10015523328349978,
          -0.13644474389603303,
          -0.11905418777480989,
          0.0174094083000046,
          -1.1220187287468883,
          -0.5170944579202279,
          -0.997026827650263,
          0.2487991613877705,
          -0.29664115237086275,
          0.4952113239779604,
          -0.17470315974250095,
          0.986335187821242,
          0.21353390133544178,
          2.1906997289697334,
          -1.8963609228910925,
          -0.646916688254908,
          0.901486891648711,
          2.528325706806398,
          -0.24863477771546005,
          0.043668993178389105,
          -0.22631424251360518,
          1.3314571125875918,
          -0.2873078634760189,
          0.6800698398781045,
          -0.3198015988986712,
          -1.2725587552459943,
          0.31354772046343216,
          0.5031848134353261,
          1.2932258825322618,
          -0.11044702641731631,
          -0.6173620637123609,
          0.5627610966190263,
          0.24073709223773224,
          0.28066507712263905,
          -0.07311270374727777,
          1.1603385699937696,
          0.36949271637572373,
          1.9046587083409812,
          1.1110566985605046,
          0.6590497961002102,
          -1.6274383406162574,
          0.602319280295629,
          0.42028220364705954,
          0.8109516728035557,
          1.0444420947072588
         ]
        },
        {
         "mode": "markers",
         "name": "markers",
         "type": "scatter",
         "x": [
          0,
          0.010101010101010102,
          0.020202020202020204,
          0.030303030303030304,
          0.04040404040404041,
          0.05050505050505051,
          0.06060606060606061,
          0.07070707070707072,
          0.08080808080808081,
          0.09090909090909091,
          0.10101010101010102,
          0.11111111111111112,
          0.12121212121212122,
          0.13131313131313133,
          0.14141414141414144,
          0.15151515151515152,
          0.16161616161616163,
          0.17171717171717174,
          0.18181818181818182,
          0.19191919191919193,
          0.20202020202020204,
          0.21212121212121213,
          0.22222222222222224,
          0.23232323232323235,
          0.24242424242424243,
          0.25252525252525254,
          0.26262626262626265,
          0.27272727272727276,
          0.2828282828282829,
          0.29292929292929293,
          0.30303030303030304,
          0.31313131313131315,
          0.32323232323232326,
          0.33333333333333337,
          0.3434343434343435,
          0.3535353535353536,
          0.36363636363636365,
          0.37373737373737376,
          0.38383838383838387,
          0.393939393939394,
          0.4040404040404041,
          0.4141414141414142,
          0.42424242424242425,
          0.43434343434343436,
          0.4444444444444445,
          0.4545454545454546,
          0.4646464646464647,
          0.4747474747474748,
          0.48484848484848486,
          0.494949494949495,
          0.5050505050505051,
          0.5151515151515152,
          0.5252525252525253,
          0.5353535353535354,
          0.5454545454545455,
          0.5555555555555556,
          0.5656565656565657,
          0.5757575757575758,
          0.5858585858585859,
          0.595959595959596,
          0.6060606060606061,
          0.6161616161616162,
          0.6262626262626263,
          0.6363636363636365,
          0.6464646464646465,
          0.6565656565656566,
          0.6666666666666667,
          0.6767676767676768,
          0.686868686868687,
          0.696969696969697,
          0.7070707070707072,
          0.7171717171717172,
          0.7272727272727273,
          0.7373737373737375,
          0.7474747474747475,
          0.7575757575757577,
          0.7676767676767677,
          0.7777777777777778,
          0.787878787878788,
          0.797979797979798,
          0.8080808080808082,
          0.8181818181818182,
          0.8282828282828284,
          0.8383838383838385,
          0.8484848484848485,
          0.8585858585858587,
          0.8686868686868687,
          0.8787878787878789,
          0.888888888888889,
          0.8989898989898991,
          0.9090909090909092,
          0.9191919191919192,
          0.9292929292929294,
          0.9393939393939394,
          0.9494949494949496,
          0.9595959595959597,
          0.9696969696969697,
          0.9797979797979799,
          0.98989898989899,
          1
         ],
         "y": [
          -5.400878191788927,
          -4.175994381549592,
          -5.56230543101909,
          -3.0451219249909656,
          -6.331951666517249,
          -6.760688560398783,
          -6.6507212658241,
          -5.890555584163049,
          -6.119115398559728,
          -3.043921096296358,
          -5.326499498078184,
          -6.342675789377436,
          -3.885617023220208,
          -5.586523938821593,
          -6.236853376541397,
          -4.1241610723507005,
          -4.376637823421968,
          -5.434956682955228,
          -3.5924599997587716,
          -4.870898420289275,
          -3.3830504011427,
          -4.497259118000096,
          -3.4411944593801405,
          -4.890597303574572,
          -6.219744396979033,
          -2.5506313509386027,
          -5.545774167982568,
          -5.1988378628888965,
          -5.700398504921255,
          -5.203394448964558,
          -4.7573305589182056,
          -4.798169821125996,
          -4.338979712401307,
          -3.207841791024433,
          -5.120464571788507,
          -6.233120735446427,
          -6.182318126509633,
          -5.665754518199127,
          -6.674195807618932,
          -4.174970175561014,
          -5.4982135636310785,
          -5.310984978302851,
          -5.001891482838004,
          -6.396620424595432,
          -5.861316360776042,
          -4.3252884743120275,
          -4.381460869213707,
          -5.443171930700638,
          -3.1894650858745437,
          -6.305726922557738,
          -5.344987210154979,
          -5.230839743135469,
          -7.79308500014654,
          -3.0624711863839202,
          -4.633667985459942,
          -6.044589381907792,
          -2.9488265571425556,
          -4.414337999827618,
          -4.570473859978035,
          -5.606998398200046,
          -4.893777275964783,
          -6.525680316229358,
          -4.204973905575155,
          -5.374438318843221,
          -4.865951803445377,
          -3.797945137800294,
          -4.715251889150942,
          -4.737532554536731,
          -4.723500695177816,
          -5.733271603895313,
          -4.163995280565731,
          -3.4566408891955165,
          -4.241194339902069,
          -4.115091185535117,
          -5.877281518918188,
          -5.867787222872925,
          -6.44087602429184,
          -3.767746929171564,
          -5.254179867607368,
          -3.600156057519014,
          -5.7819116826868004,
          -5.4375089828285805,
          -4.904574912808743,
          -4.078549931340489,
          -4.939249804200493,
          -4.788875244992283,
          -4.983472432694384,
          -4.822812279724039,
          -6.116470017884744,
          -4.919072899026721,
          -5.186578993511466,
          -5.056824480885847,
          -4.507663444063351,
          -5.680678141008886,
          -5.08450802740463,
          -5.297361882773504,
          -4.582697995025137,
          -4.21522934898441,
          -5.955425262373689,
          -4.414089568897384
         ]
        }
       ],
       "layout": {
        "font": {
         "color": "RebeccaPurple",
         "size": 18
        },
        "legend": {
         "title": {
          "text": "Legend Title"
         }
        },
        "template": {
         "data": {
          "bar": [
           {
            "error_x": {
             "color": "#2a3f5f"
            },
            "error_y": {
             "color": "#2a3f5f"
            },
            "marker": {
             "line": {
              "color": "#E5ECF6",
              "width": 0.5
             }
            },
            "type": "bar"
           }
          ],
          "barpolar": [
           {
            "marker": {
             "line": {
              "color": "#E5ECF6",
              "width": 0.5
             }
            },
            "type": "barpolar"
           }
          ],
          "carpet": [
           {
            "aaxis": {
             "endlinecolor": "#2a3f5f",
             "gridcolor": "white",
             "linecolor": "white",
             "minorgridcolor": "white",
             "startlinecolor": "#2a3f5f"
            },
            "baxis": {
             "endlinecolor": "#2a3f5f",
             "gridcolor": "white",
             "linecolor": "white",
             "minorgridcolor": "white",
             "startlinecolor": "#2a3f5f"
            },
            "type": "carpet"
           }
          ],
          "choropleth": [
           {
            "colorbar": {
             "outlinewidth": 0,
             "ticks": ""
            },
            "type": "choropleth"
           }
          ],
          "contour": [
           {
            "colorbar": {
             "outlinewidth": 0,
             "ticks": ""
            },
            "colorscale": [
             [
              0,
              "#0d0887"
             ],
             [
              0.1111111111111111,
              "#46039f"
             ],
             [
              0.2222222222222222,
              "#7201a8"
             ],
             [
              0.3333333333333333,
              "#9c179e"
             ],
             [
              0.4444444444444444,
              "#bd3786"
             ],
             [
              0.5555555555555556,
              "#d8576b"
             ],
             [
              0.6666666666666666,
              "#ed7953"
             ],
             [
              0.7777777777777778,
              "#fb9f3a"
             ],
             [
              0.8888888888888888,
              "#fdca26"
             ],
             [
              1,
              "#f0f921"
             ]
            ],
            "type": "contour"
           }
          ],
          "contourcarpet": [
           {
            "colorbar": {
             "outlinewidth": 0,
             "ticks": ""
            },
            "type": "contourcarpet"
           }
          ],
          "heatmap": [
           {
            "colorbar": {
             "outlinewidth": 0,
             "ticks": ""
            },
            "colorscale": [
             [
              0,
              "#0d0887"
             ],
             [
              0.1111111111111111,
              "#46039f"
             ],
             [
              0.2222222222222222,
              "#7201a8"
             ],
             [
              0.3333333333333333,
              "#9c179e"
             ],
             [
              0.4444444444444444,
              "#bd3786"
             ],
             [
              0.5555555555555556,
              "#d8576b"
             ],
             [
              0.6666666666666666,
              "#ed7953"
             ],
             [
              0.7777777777777778,
              "#fb9f3a"
             ],
             [
              0.8888888888888888,
              "#fdca26"
             ],
             [
              1,
              "#f0f921"
             ]
            ],
            "type": "heatmap"
           }
          ],
          "heatmapgl": [
           {
            "colorbar": {
             "outlinewidth": 0,
             "ticks": ""
            },
            "colorscale": [
             [
              0,
              "#0d0887"
             ],
             [
              0.1111111111111111,
              "#46039f"
             ],
             [
              0.2222222222222222,
              "#7201a8"
             ],
             [
              0.3333333333333333,
              "#9c179e"
             ],
             [
              0.4444444444444444,
              "#bd3786"
             ],
             [
              0.5555555555555556,
              "#d8576b"
             ],
             [
              0.6666666666666666,
              "#ed7953"
             ],
             [
              0.7777777777777778,
              "#fb9f3a"
             ],
             [
              0.8888888888888888,
              "#fdca26"
             ],
             [
              1,
              "#f0f921"
             ]
            ],
            "type": "heatmapgl"
           }
          ],
          "histogram": [
           {
            "marker": {
             "colorbar": {
              "outlinewidth": 0,
              "ticks": ""
             }
            },
            "type": "histogram"
           }
          ],
          "histogram2d": [
           {
            "colorbar": {
             "outlinewidth": 0,
             "ticks": ""
            },
            "colorscale": [
             [
              0,
              "#0d0887"
             ],
             [
              0.1111111111111111,
              "#46039f"
             ],
             [
              0.2222222222222222,
              "#7201a8"
             ],
             [
              0.3333333333333333,
              "#9c179e"
             ],
             [
              0.4444444444444444,
              "#bd3786"
             ],
             [
              0.5555555555555556,
              "#d8576b"
             ],
             [
              0.6666666666666666,
              "#ed7953"
             ],
             [
              0.7777777777777778,
              "#fb9f3a"
             ],
             [
              0.8888888888888888,
              "#fdca26"
             ],
             [
              1,
              "#f0f921"
             ]
            ],
            "type": "histogram2d"
           }
          ],
          "histogram2dcontour": [
           {
            "colorbar": {
             "outlinewidth": 0,
             "ticks": ""
            },
            "colorscale": [
             [
              0,
              "#0d0887"
             ],
             [
              0.1111111111111111,
              "#46039f"
             ],
             [
              0.2222222222222222,
              "#7201a8"
             ],
             [
              0.3333333333333333,
              "#9c179e"
             ],
             [
              0.4444444444444444,
              "#bd3786"
             ],
             [
              0.5555555555555556,
              "#d8576b"
             ],
             [
              0.6666666666666666,
              "#ed7953"
             ],
             [
              0.7777777777777778,
              "#fb9f3a"
             ],
             [
              0.8888888888888888,
              "#fdca26"
             ],
             [
              1,
              "#f0f921"
             ]
            ],
            "type": "histogram2dcontour"
           }
          ],
          "mesh3d": [
           {
            "colorbar": {
             "outlinewidth": 0,
             "ticks": ""
            },
            "type": "mesh3d"
           }
          ],
          "parcoords": [
           {
            "line": {
             "colorbar": {
              "outlinewidth": 0,
              "ticks": ""
             }
            },
            "type": "parcoords"
           }
          ],
          "pie": [
           {
            "automargin": true,
            "type": "pie"
           }
          ],
          "scatter": [
           {
            "marker": {
             "colorbar": {
              "outlinewidth": 0,
              "ticks": ""
             }
            },
            "type": "scatter"
           }
          ],
          "scatter3d": [
           {
            "line": {
             "colorbar": {
              "outlinewidth": 0,
              "ticks": ""
             }
            },
            "marker": {
             "colorbar": {
              "outlinewidth": 0,
              "ticks": ""
             }
            },
            "type": "scatter3d"
           }
          ],
          "scattercarpet": [
           {
            "marker": {
             "colorbar": {
              "outlinewidth": 0,
              "ticks": ""
             }
            },
            "type": "scattercarpet"
           }
          ],
          "scattergeo": [
           {
            "marker": {
             "colorbar": {
              "outlinewidth": 0,
              "ticks": ""
             }
            },
            "type": "scattergeo"
           }
          ],
          "scattergl": [
           {
            "marker": {
             "colorbar": {
              "outlinewidth": 0,
              "ticks": ""
             }
            },
            "type": "scattergl"
           }
          ],
          "scattermapbox": [
           {
            "marker": {
             "colorbar": {
              "outlinewidth": 0,
              "ticks": ""
             }
            },
            "type": "scattermapbox"
           }
          ],
          "scatterpolar": [
           {
            "marker": {
             "colorbar": {
              "outlinewidth": 0,
              "ticks": ""
             }
            },
            "type": "scatterpolar"
           }
          ],
          "scatterpolargl": [
           {
            "marker": {
             "colorbar": {
              "outlinewidth": 0,
              "ticks": ""
             }
            },
            "type": "scatterpolargl"
           }
          ],
          "scatterternary": [
           {
            "marker": {
             "colorbar": {
              "outlinewidth": 0,
              "ticks": ""
             }
            },
            "type": "scatterternary"
           }
          ],
          "surface": [
           {
            "colorbar": {
             "outlinewidth": 0,
             "ticks": ""
            },
            "colorscale": [
             [
              0,
              "#0d0887"
             ],
             [
              0.1111111111111111,
              "#46039f"
             ],
             [
              0.2222222222222222,
              "#7201a8"
             ],
             [
              0.3333333333333333,
              "#9c179e"
             ],
             [
              0.4444444444444444,
              "#bd3786"
             ],
             [
              0.5555555555555556,
              "#d8576b"
             ],
             [
              0.6666666666666666,
              "#ed7953"
             ],
             [
              0.7777777777777778,
              "#fb9f3a"
             ],
             [
              0.8888888888888888,
              "#fdca26"
             ],
             [
              1,
              "#f0f921"
             ]
            ],
            "type": "surface"
           }
          ],
          "table": [
           {
            "cells": {
             "fill": {
              "color": "#EBF0F8"
             },
             "line": {
              "color": "white"
             }
            },
            "header": {
             "fill": {
              "color": "#C8D4E3"
             },
             "line": {
              "color": "white"
             }
            },
            "type": "table"
           }
          ]
         },
         "layout": {
          "annotationdefaults": {
           "arrowcolor": "#2a3f5f",
           "arrowhead": 0,
           "arrowwidth": 1
          },
          "autotypenumbers": "strict",
          "coloraxis": {
           "colorbar": {
            "outlinewidth": 0,
            "ticks": ""
           }
          },
          "colorscale": {
           "diverging": [
            [
             0,
             "#8e0152"
            ],
            [
             0.1,
             "#c51b7d"
            ],
            [
             0.2,
             "#de77ae"
            ],
            [
             0.3,
             "#f1b6da"
            ],
            [
             0.4,
             "#fde0ef"
            ],
            [
             0.5,
             "#f7f7f7"
            ],
            [
             0.6,
             "#e6f5d0"
            ],
            [
             0.7,
             "#b8e186"
            ],
            [
             0.8,
             "#7fbc41"
            ],
            [
             0.9,
             "#4d9221"
            ],
            [
             1,
             "#276419"
            ]
           ],
           "sequential": [
            [
             0,
             "#0d0887"
            ],
            [
             0.1111111111111111,
             "#46039f"
            ],
            [
             0.2222222222222222,
             "#7201a8"
            ],
            [
             0.3333333333333333,
             "#9c179e"
            ],
            [
             0.4444444444444444,
             "#bd3786"
            ],
            [
             0.5555555555555556,
             "#d8576b"
            ],
            [
             0.6666666666666666,
             "#ed7953"
            ],
            [
             0.7777777777777778,
             "#fb9f3a"
            ],
            [
             0.8888888888888888,
             "#fdca26"
            ],
            [
             1,
             "#f0f921"
            ]
           ],
           "sequentialminus": [
            [
             0,
             "#0d0887"
            ],
            [
             0.1111111111111111,
             "#46039f"
            ],
            [
             0.2222222222222222,
             "#7201a8"
            ],
            [
             0.3333333333333333,
             "#9c179e"
            ],
            [
             0.4444444444444444,
             "#bd3786"
            ],
            [
             0.5555555555555556,
             "#d8576b"
            ],
            [
             0.6666666666666666,
             "#ed7953"
            ],
            [
             0.7777777777777778,
             "#fb9f3a"
            ],
            [
             0.8888888888888888,
             "#fdca26"
            ],
            [
             1,
             "#f0f921"
            ]
           ]
          },
          "colorway": [
           "#636efa",
           "#EF553B",
           "#00cc96",
           "#ab63fa",
           "#FFA15A",
           "#19d3f3",
           "#FF6692",
           "#B6E880",
           "#FF97FF",
           "#FECB52"
          ],
          "font": {
           "color": "#2a3f5f"
          },
          "geo": {
           "bgcolor": "white",
           "lakecolor": "white",
           "landcolor": "#E5ECF6",
           "showlakes": true,
           "showland": true,
           "subunitcolor": "white"
          },
          "hoverlabel": {
           "align": "left"
          },
          "hovermode": "closest",
          "mapbox": {
           "style": "light"
          },
          "paper_bgcolor": "white",
          "plot_bgcolor": "#E5ECF6",
          "polar": {
           "angularaxis": {
            "gridcolor": "white",
            "linecolor": "white",
            "ticks": ""
           },
           "bgcolor": "#E5ECF6",
           "radialaxis": {
            "gridcolor": "white",
            "linecolor": "white",
            "ticks": ""
           }
          },
          "scene": {
           "xaxis": {
            "backgroundcolor": "#E5ECF6",
            "gridcolor": "white",
            "gridwidth": 2,
            "linecolor": "white",
            "showbackground": true,
            "ticks": "",
            "zerolinecolor": "white"
           },
           "yaxis": {
            "backgroundcolor": "#E5ECF6",
            "gridcolor": "white",
            "gridwidth": 2,
            "linecolor": "white",
            "showbackground": true,
            "ticks": "",
            "zerolinecolor": "white"
           },
           "zaxis": {
            "backgroundcolor": "#E5ECF6",
            "gridcolor": "white",
            "gridwidth": 2,
            "linecolor": "white",
            "showbackground": true,
            "ticks": "",
            "zerolinecolor": "white"
           }
          },
          "shapedefaults": {
           "line": {
            "color": "#2a3f5f"
           }
          },
          "ternary": {
           "aaxis": {
            "gridcolor": "white",
            "linecolor": "white",
            "ticks": ""
           },
           "baxis": {
            "gridcolor": "white",
            "linecolor": "white",
            "ticks": ""
           },
           "bgcolor": "#E5ECF6",
           "caxis": {
            "gridcolor": "white",
            "linecolor": "white",
            "ticks": ""
           }
          },
          "title": {
           "x": 0.05
          },
          "xaxis": {
           "automargin": true,
           "gridcolor": "white",
           "linecolor": "white",
           "ticks": "",
           "title": {
            "standoff": 15
           },
           "zerolinecolor": "white",
           "zerolinewidth": 2
          },
          "yaxis": {
           "automargin": true,
           "gridcolor": "white",
           "linecolor": "white",
           "ticks": "",
           "title": {
            "standoff": 15
           },
           "zerolinecolor": "white",
           "zerolinewidth": 2
          }
         }
        },
        "title": {
         "text": "Performance Comparison for mvc"
        },
        "xaxis": {
         "title": {
          "text": "X Axis Title"
         }
        },
        "yaxis": {
         "title": {
          "text": "Y Axis Title"
         },
         "type": "log"
        }
       }
      }
     },
     "metadata": {}
    }
   ],
   "source": [
    "np.random.seed(1)\n",
    "\n",
    "N = 100\n",
    "random_x = np.linspace(0, 1, N)\n",
    "random_y0 = np.random.randn(N) + 5\n",
    "random_y1 = np.random.randn(N)\n",
    "random_y2 = np.random.randn(N) - 5\n",
    "\n",
    "# Create traces\n",
    "fig = go.Figure()\n",
    "fig.add_trace(go.Scatter(x=random_x, y=random_y0,\n",
    "                    mode='lines',\n",
    "                    name='lines',\n",
    "                    line=dict(color='royalblue', width=1, dash='dot')))\n",
    "fig.add_trace(go.Scatter(x=random_x, y=random_y1,\n",
    "                    mode='lines+markers',\n",
    "                    name='lines+markers'))\n",
    "fig.add_trace(go.Scatter(x=random_x, y=random_y2,\n",
    "                    mode='markers', name='markers'))\n",
    "\n",
    "fig.update_layout(\n",
    "    title=\"Performance Comparison for mvc\",\n",
    "    xaxis_title=\"X Axis Title\",\n",
    "    yaxis_title=\"Y Axis Title\",\n",
    "    legend_title=\"Legend Title\",\n",
    "    font=dict(\n",
    "        #family=\"sans serif\",\n",
    "        size=18,\n",
    "        color=\"RebeccaPurple\"\n",
    "    ),\n",
    ")\n",
    "\n",
    "fig.update_yaxes(type=\"log\")\n",
    "\n",
    "fig.show()"
   ]
  },
  {
   "cell_type": "code",
   "execution_count": null,
   "metadata": {},
   "outputs": [],
   "source": []
  }
 ]
}