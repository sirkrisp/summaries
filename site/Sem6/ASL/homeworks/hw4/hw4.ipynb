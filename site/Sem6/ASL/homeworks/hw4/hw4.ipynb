{
 "cells": [
  {
   "cell_type": "code",
   "execution_count": 1,
   "metadata": {},
   "outputs": [],
   "source": [
    "import numpy as np"
   ]
  },
  {
   "cell_type": "code",
   "execution_count": 3,
   "metadata": {},
   "outputs": [],
   "source": [
    "def bit2int(bits: str):\n",
    "    \"\"\" \n",
    "    \"\"\"\n",
    "    res = 0\n",
    "    bits_rev = bits[::-1]\n",
    "    for i in range(len(bits)):\n",
    "        if bits_rev[i] == '1':\n",
    "            res += 2**i\n",
    "    return res"
   ]
  },
  {
   "cell_type": "code",
   "execution_count": 2,
   "metadata": {},
   "outputs": [],
   "source": [
    "class Cache:\n",
    "\n",
    "    def __init__(self, s: int, e: int, b: int):\n",
    "        \"\"\"\n",
    "        in:\n",
    "            s: 2^s sets\n",
    "            e: 2^e way associativity\n",
    "            b: 2^b byte sized blocks\n",
    "        \"\"\"\n",
    "        self.s = s\n",
    "        self.e = e\n",
    "        self.b = b\n",
    "\n",
    "        self.t = 0\n",
    "\n",
    "        self.sets = []\n",
    "        for i in range(2**s):\n",
    "            set_i = []\n",
    "            for j in range(2**e):\n",
    "                # for each line we store tag and time of creation\n",
    "                # TODO data\n",
    "                set_i.append(['0', self.t])\n",
    "            self.sets.append(set_i)\n",
    "\n",
    "    \n",
    "    def get(self, address: str):\n",
    "        \"\"\" returns true if hit and false o/w\n",
    "        \"\"\"\n",
    "        self.t += 1\n",
    "        # TODO offset not used here because data not used\n",
    "        # offset = int(address_rev[:self.b])\n",
    "        # print(address)\n",
    "        block_address = bit2int(address[-(self.b + self.s):-self.b])\n",
    "        tag = address[:-(self.b + self.s)]\n",
    "        # print(address, address[-(self.b + self.s):-self.b], block_address)\n",
    "        # check if in cache\n",
    "        lru_block = 0\n",
    "        lru_time = self.sets[block_address][lru_block][1]\n",
    "        for i in range(2**self.e):\n",
    "            block = self.sets[block_address][i]\n",
    "            if(block[0] == tag):\n",
    "                # update time accessed\n",
    "                block[1] = self.t\n",
    "                return True\n",
    "            if(block[1] < lru_time):\n",
    "                lru_time = block[1]\n",
    "                lru_block = i\n",
    "        # not returned yet\n",
    "        # => cache miss\n",
    "        # Replace least recently used (LRU) block\n",
    "        self.sets[block_address][lru_block] = [tag, self.t]\n",
    "        return False\n",
    "\n",
    "    def printCache(self):\n",
    "        print(\"---\")\n",
    "        for i in range(2**self.s):\n",
    "            set_i = \"|\"\n",
    "\n",
    "            for j in range(2**self.e):\n",
    "                # for each line we store tag and time of creation\n",
    "                # TODO data\n",
    "                set_i += \" \" + self.sets[i][j][0] + \" |\"\n",
    "            print(set_i)\n",
    "        print(\"---\")\n",
    "\n",
    "    def reset(self):\n",
    "        self.t = 0\n",
    "        self.sets = []\n",
    "        for i in range(2**self.s):\n",
    "            set_i = []\n",
    "            for j in range(2**self.e):\n",
    "                # for each line we store tag and time of creation\n",
    "                # TODO data\n",
    "                set_i.append(['0', self.t])\n",
    "            self.sets.append(set_i)"
   ]
  },
  {
   "cell_type": "code",
   "execution_count": 4,
   "metadata": {},
   "outputs": [],
   "source": [
    "# B = 16 = 2^4\n",
    "# S = 4 = 2^2\n",
    "# E = 4 = 2^2\n",
    "cache = Cache(1, 2, 1)"
   ]
  },
  {
   "cell_type": "code",
   "execution_count": 5,
   "metadata": {},
   "outputs": [],
   "source": [
    "\n",
    "def calculate1():\n",
    "    # \n",
    "    x = \"\"\n",
    "    y = \"\"\n",
    "    z = \"\"\n",
    "    for i in range(1,11):\n",
    "        print(\"x[%d]\" % ((4*i)%12), \n",
    "            \"y[%d]\" % ((3*i-2)% 8), \n",
    "            \"z[%d]\" % ((4*i-1)% 8))\n",
    "        x += \"H\" if cache.get(format((4*i)%12, '016b')) else \"M\"\n",
    "        y += \"H\" if cache.get(format(2**8 + (3*i-2)% 8, '016b')) else \"M\"\n",
    "        z += \"H\" if cache.get(format(2**16 + (4*i-1)% 8, '016b')) else \"M\"\n",
    "        cache.printCache()\n",
    "    print(\"x: \" + x, \"y: \" + y, \"z: \" + z, sep=\"\\n\")"
   ]
  },
  {
   "cell_type": "code",
   "execution_count": null,
   "metadata": {},
   "outputs": [],
   "source": [
    "1, 4, 7, 2, 5, 0, 3, 6, 1, 4"
   ]
  },
  {
   "cell_type": "code",
   "execution_count": 6,
   "metadata": {},
   "outputs": [
    {
     "name": "stdout",
     "output_type": "stream",
     "text": [
      "x[4] y[1] z[3]\n",
      "---\n",
      "| 00000000000001 | 00000001000000 | 0 | 0 |\n",
      "| 100000000000000 | 0 | 0 | 0 |\n",
      "---\n",
      "x[8] y[4] z[7]\n",
      "---\n",
      "| 00000000000001 | 00000001000000 | 00000000000010 | 00000001000001 |\n",
      "| 100000000000000 | 100000000000001 | 0 | 0 |\n",
      "---\n",
      "x[0] y[7] z[3]\n",
      "---\n",
      "| 00000000000000 | 00000001000000 | 00000000000010 | 00000001000001 |\n",
      "| 100000000000000 | 100000000000001 | 00000001000001 | 0 |\n",
      "---\n",
      "x[4] y[2] z[7]\n",
      "---\n",
      "| 00000000000000 | 00000000000001 | 00000000000010 | 00000001000001 |\n",
      "| 100000000000000 | 100000000000001 | 00000001000001 | 00000001000000 |\n",
      "---\n",
      "x[8] y[5] z[3]\n",
      "---\n",
      "| 00000000000000 | 00000000000001 | 00000000000010 | 00000001000001 |\n",
      "| 100000000000000 | 100000000000001 | 00000001000001 | 00000001000000 |\n",
      "---\n",
      "x[0] y[0] z[7]\n",
      "---\n",
      "| 00000000000000 | 00000001000000 | 00000000000010 | 00000001000001 |\n",
      "| 100000000000000 | 100000000000001 | 00000001000001 | 00000001000000 |\n",
      "---\n",
      "x[4] y[3] z[3]\n",
      "---\n",
      "| 00000000000000 | 00000001000000 | 00000000000001 | 00000001000001 |\n",
      "| 100000000000000 | 100000000000001 | 00000001000001 | 00000001000000 |\n",
      "---\n",
      "x[8] y[6] z[7]\n",
      "---\n",
      "| 00000000000000 | 00000001000000 | 00000000000001 | 00000000000010 |\n",
      "| 100000000000000 | 100000000000001 | 00000001000001 | 00000001000000 |\n",
      "---\n",
      "x[0] y[1] z[3]\n",
      "---\n",
      "| 00000000000000 | 00000001000000 | 00000000000001 | 00000000000010 |\n",
      "| 100000000000000 | 100000000000001 | 00000001000001 | 00000001000000 |\n",
      "---\n",
      "x[4] y[4] z[7]\n",
      "---\n",
      "| 00000000000000 | 00000001000000 | 00000000000001 | 00000001000001 |\n",
      "| 100000000000000 | 100000000000001 | 00000001000001 | 00000001000000 |\n",
      "---\n",
      "x: MMMMHHMMHH\n",
      "y: MMMMHMHHHM\n",
      "z: MMHHHHHHHH\n"
     ]
    }
   ],
   "source": [
    "cache.reset()\n",
    "calculate1()"
   ]
  },
  {
   "cell_type": "code",
   "execution_count": 173,
   "metadata": {},
   "outputs": [
    {
     "name": "stdout",
     "output_type": "stream",
     "text": [
      "---\n",
      "| 0000000100000 | 0000000000000 |\n",
      "| 10000000000000 | 0000000100000 |\n",
      "| 0000000000000 | 0000000100000 |\n",
      "| 10000000000000 | 0000000100000 |\n",
      "---\n"
     ]
    }
   ],
   "source": [
    "cache.printCache()"
   ]
  },
  {
   "cell_type": "code",
   "execution_count": 100,
   "metadata": {},
   "outputs": [
    {
     "data": {
      "text/plain": [
       "0"
      ]
     },
     "execution_count": 100,
     "metadata": {},
     "output_type": "execute_result"
    }
   ],
   "source": [
    "cache.sets[0][0][1]"
   ]
  },
  {
   "cell_type": "code",
   "execution_count": 101,
   "metadata": {},
   "outputs": [
    {
     "data": {
      "text/plain": [
       "'0000000000000100'"
      ]
     },
     "execution_count": 101,
     "metadata": {},
     "output_type": "execute_result"
    }
   ],
   "source": [
    "format((4*1)%12, '016b')[::]"
   ]
  },
  {
   "cell_type": "code",
   "execution_count": 20,
   "metadata": {},
   "outputs": [
    {
     "data": {
      "text/plain": [
       "'0'"
      ]
     },
     "execution_count": 20,
     "metadata": {},
     "output_type": "execute_result"
    }
   ],
   "source": [
    "format(10, '016b')[0]"
   ]
  },
  {
   "cell_type": "code",
   "execution_count": 31,
   "metadata": {},
   "outputs": [
    {
     "data": {
      "text/plain": [
       "1"
      ]
     },
     "execution_count": 31,
     "metadata": {},
     "output_type": "execute_result"
    }
   ],
   "source": [
    "b = 1\n",
    "a = b\n",
    "a = 2\n",
    "b"
   ]
  },
  {
   "cell_type": "code",
   "execution_count": 23,
   "metadata": {},
   "outputs": [
    {
     "data": {
      "text/plain": [
       "10"
      ]
     },
     "execution_count": 23,
     "metadata": {},
     "output_type": "execute_result"
    }
   ],
   "source": [
    "int(format(10, '016b'), 2)"
   ]
  },
  {
   "cell_type": "code",
   "execution_count": 127,
   "metadata": {},
   "outputs": [
    {
     "data": {
      "text/plain": [
       "'l'"
      ]
     },
     "execution_count": 127,
     "metadata": {},
     "output_type": "execute_result"
    }
   ],
   "source": [
    "\"hallo\"[-2:-1]"
   ]
  },
  {
   "cell_type": "code",
   "execution_count": 24,
   "metadata": {},
   "outputs": [
    {
     "data": {
      "text/plain": [
       "int"
      ]
     },
     "execution_count": 24,
     "metadata": {},
     "output_type": "execute_result"
    }
   ],
   "source": [
    "int"
   ]
  },
  {
   "cell_type": "code",
   "execution_count": 25,
   "metadata": {},
   "outputs": [
    {
     "ename": "TypeError",
     "evalue": "'<' not supported between instances of 'int' and 'type'",
     "output_type": "error",
     "traceback": [
      "\u001b[0;31m---------------------------------------------------------------------------\u001b[0m",
      "\u001b[0;31mTypeError\u001b[0m                                 Traceback (most recent call last)",
      "\u001b[0;32m<ipython-input-25-6be82cddfcbd>\u001b[0m in \u001b[0;36m<module>\u001b[0;34m\u001b[0m\n\u001b[0;32m----> 1\u001b[0;31m \u001b[0;36m0\u001b[0m \u001b[0;34m<\u001b[0m \u001b[0mint\u001b[0m\u001b[0;34m\u001b[0m\u001b[0;34m\u001b[0m\u001b[0m\n\u001b[0m",
      "\u001b[0;31mTypeError\u001b[0m: '<' not supported between instances of 'int' and 'type'"
     ]
    }
   ],
   "source": [
    "0 < int"
   ]
  },
  {
   "cell_type": "code",
   "execution_count": 26,
   "metadata": {},
   "outputs": [
    {
     "ename": "ValueError",
     "evalue": "invalid literal for int() with base 10: 'inf'",
     "output_type": "error",
     "traceback": [
      "\u001b[0;31m---------------------------------------------------------------------------\u001b[0m",
      "\u001b[0;31mValueError\u001b[0m                                Traceback (most recent call last)",
      "\u001b[0;32m<ipython-input-26-f859f82dc24a>\u001b[0m in \u001b[0;36m<module>\u001b[0;34m\u001b[0m\n\u001b[0;32m----> 1\u001b[0;31m \u001b[0mint\u001b[0m\u001b[0;34m(\u001b[0m\u001b[0;34m'inf'\u001b[0m\u001b[0;34m)\u001b[0m\u001b[0;34m\u001b[0m\u001b[0;34m\u001b[0m\u001b[0m\n\u001b[0m",
      "\u001b[0;31mValueError\u001b[0m: invalid literal for int() with base 10: 'inf'"
     ]
    }
   ],
   "source": [
    "int('inf')"
   ]
  },
  {
   "cell_type": "code",
   "execution_count": 30,
   "metadata": {},
   "outputs": [
    {
     "data": {
      "text/plain": [
       "9223372036854775807"
      ]
     },
     "execution_count": 30,
     "metadata": {},
     "output_type": "execute_result"
    }
   ],
   "source": [
    "sys.maxsize"
   ]
  },
  {
   "cell_type": "code",
   "execution_count": 28,
   "metadata": {},
   "outputs": [],
   "source": [
    "import sys"
   ]
  },
  {
   "cell_type": "code",
   "execution_count": 36,
   "metadata": {},
   "outputs": [
    {
     "data": {
      "text/plain": [
       "[1, 1]"
      ]
     },
     "execution_count": 36,
     "metadata": {},
     "output_type": "execute_result"
    }
   ],
   "source": [
    "a = 1\n",
    "b = [a, a]\n",
    "a += 2\n",
    "b"
   ]
  },
  {
   "cell_type": "code",
   "execution_count": null,
   "metadata": {},
   "outputs": [],
   "source": []
  }
 ],
 "metadata": {
  "kernelspec": {
   "display_name": "Python 3.8.5 64-bit ('mkdocs': conda)",
   "language": "python",
   "name": "python385jvsc74a57bd00c01e64e3d24e8e86764503592357d297d0e0ead25bd9db89325aadffe80afef"
  },
  "language_info": {
   "codemirror_mode": {
    "name": "ipython",
    "version": 3
   },
   "file_extension": ".py",
   "mimetype": "text/x-python",
   "name": "python",
   "nbconvert_exporter": "python",
   "pygments_lexer": "ipython3",
   "version": "3.8.5"
  },
  "metadata": {
   "interpreter": {
    "hash": "0c01e64e3d24e8e86764503592357d297d0e0ead25bd9db89325aadffe80afef"
   }
  }
 },
 "nbformat": 4,
 "nbformat_minor": 4
}
